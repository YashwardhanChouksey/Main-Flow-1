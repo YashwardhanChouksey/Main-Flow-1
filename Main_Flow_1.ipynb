{
  "nbformat": 4,
  "nbformat_minor": 0,
  "metadata": {
    "colab": {
      "provenance": []
    },
    "kernelspec": {
      "name": "python3",
      "display_name": "Python 3"
    },
    "language_info": {
      "name": "python"
    }
  },
  "cells": [
    {
      "cell_type": "code",
      "execution_count": 1,
      "metadata": {
        "colab": {
          "base_uri": "https://localhost:8080/"
        },
        "id": "SrDlFsnGZzsu",
        "outputId": "9a298a3e-61de-40e8-da08-f6e585f8ab7f"
      },
      "outputs": [
        {
          "output_type": "stream",
          "name": "stdout",
          "text": [
            "Addition: 15\n",
            "Subtraction: 5\n",
            "Multiplication: 50\n",
            "Division: 2.0\n",
            "Modulus: 0\n"
          ]
        }
      ],
      "source": [
        "# Addition\n",
        "a = 10\n",
        "b = 5\n",
        "addition = a + b\n",
        "print(\"Addition:\", addition)\n",
        "\n",
        "# Subtraction\n",
        "subtraction = a - b\n",
        "print(\"Subtraction:\", subtraction)\n",
        "\n",
        "# Multiplication\n",
        "multiplication = a * b\n",
        "print(\"Multiplication:\", multiplication)\n",
        "\n",
        "# Division\n",
        "division = a / b\n",
        "print(\"Division:\", division)\n",
        "\n",
        "# Modulus\n",
        "modulus = a % b\n",
        "print(\"Modulus:\", modulus)\n"
      ]
    },
    {
      "cell_type": "code",
      "source": [
        "# Concatenation\n",
        "str1 = \"Hello\"\n",
        "str2 = \"World\"\n",
        "concatenation = str1 + \" \" + str2\n",
        "print(\"Concatenation:\", concatenation)\n",
        "\n",
        "# Uppercase\n",
        "uppercase = str1.upper()\n",
        "print(\"Uppercase:\", uppercase)\n",
        "\n",
        "# Lowercase\n",
        "lowercase = str2.lower()\n",
        "print(\"Lowercase:\", lowercase)\n",
        "\n",
        "# Length\n",
        "length = len(str1)\n",
        "print(\"Length of str1:\", length)\n",
        "\n",
        "# Replace\n",
        "replaced = str1.replace(\"e\", \"a\")\n",
        "print(\"Replaced string:\", replaced)\n"
      ],
      "metadata": {
        "colab": {
          "base_uri": "https://localhost:8080/"
        },
        "id": "LflH_B5JZ7wp",
        "outputId": "6361eb24-126f-427e-f1d7-52826071ffdc"
      },
      "execution_count": 2,
      "outputs": [
        {
          "output_type": "stream",
          "name": "stdout",
          "text": [
            "Concatenation: Hello World\n",
            "Uppercase: HELLO\n",
            "Lowercase: world\n",
            "Length of str1: 5\n",
            "Replaced string: Hallo\n"
          ]
        }
      ]
    },
    {
      "cell_type": "code",
      "source": [
        "num = 10\n",
        "\n",
        "# If-else statement\n",
        "if num > 0:\n",
        "    print(\"The number is positive.\")\n",
        "else:\n",
        "    print(\"The number is non-positive.\")\n",
        "\n",
        "# If-elif-else statement\n",
        "if num > 0:\n",
        "    print(\"The number is positive.\")\n",
        "elif num == 0:\n",
        "    print(\"The number is zero.\")\n",
        "else:\n",
        "    print(\"The number is negative.\")\n",
        "\n",
        "# Nested if statement\n",
        "if num >= 0:\n",
        "    if num == 0:\n",
        "        print(\"The number is zero.\")\n",
        "    else:\n",
        "        print(\"The number is positive.\")\n",
        "else:\n",
        "    print(\"The number is negative.\")\n"
      ],
      "metadata": {
        "colab": {
          "base_uri": "https://localhost:8080/"
        },
        "id": "l8f9qYn3aAMs",
        "outputId": "4b4eb255-d32e-4e7c-b784-e02585930537"
      },
      "execution_count": 3,
      "outputs": [
        {
          "output_type": "stream",
          "name": "stdout",
          "text": [
            "The number is positive.\n",
            "The number is positive.\n",
            "The number is positive.\n"
          ]
        }
      ]
    }
  ]
}